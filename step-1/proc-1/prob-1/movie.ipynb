{
 "cells": [
  {
   "cell_type": "code",
   "execution_count": 100,
   "metadata": {},
   "outputs": [
    {
     "name": "stdout",
     "output_type": "stream",
     "text": [
      "Requirement already satisfied: pandas in /opt/anaconda3/envs/test/lib/python3.12/site-packages (2.2.3)\n",
      "Requirement already satisfied: numpy>=1.26.0 in /opt/anaconda3/envs/test/lib/python3.12/site-packages (from pandas) (1.26.4)\n",
      "Requirement already satisfied: python-dateutil>=2.8.2 in /opt/anaconda3/envs/test/lib/python3.12/site-packages (from pandas) (2.9.0.post0)\n",
      "Requirement already satisfied: pytz>=2020.1 in /opt/anaconda3/envs/test/lib/python3.12/site-packages (from pandas) (2024.2)\n",
      "Requirement already satisfied: tzdata>=2022.7 in /opt/anaconda3/envs/test/lib/python3.12/site-packages (from pandas) (2024.2)\n",
      "Requirement already satisfied: six>=1.5 in /opt/anaconda3/envs/test/lib/python3.12/site-packages (from python-dateutil>=2.8.2->pandas) (1.17.0)\n",
      "Note: you may need to restart the kernel to use updated packages.\n"
     ]
    }
   ],
   "source": [
    "%pip install pandas"
   ]
  },
  {
   "cell_type": "code",
   "execution_count": 125,
   "metadata": {},
   "outputs": [],
   "source": [
    "import pandas as pd\n",
    "\n",
    "df = pd.read_csv(\"prob-0101.csv\")"
   ]
  },
  {
   "cell_type": "code",
   "execution_count": 115,
   "metadata": {},
   "outputs": [
    {
     "name": "stdout",
     "output_type": "stream",
     "text": [
      "<class 'pandas.core.frame.DataFrame'>\n",
      "RangeIndex: 59 entries, 0 to 58\n",
      "Data columns (total 6 columns):\n",
      " #   Column  Non-Null Count  Dtype \n",
      "---  ------  --------------  ----- \n",
      " 0   개봉일     59 non-null     object\n",
      " 1   제목      59 non-null     object\n",
      " 2   배급사     59 non-null     object\n",
      " 3   감독      59 non-null     object\n",
      " 4   출연진     59 non-null     object\n",
      " 5   장르      59 non-null     object\n",
      "dtypes: object(6)\n",
      "memory usage: 2.9+ KB\n"
     ]
    },
    {
     "data": {
      "text/html": [
       "<div>\n",
       "<style scoped>\n",
       "    .dataframe tbody tr th:only-of-type {\n",
       "        vertical-align: middle;\n",
       "    }\n",
       "\n",
       "    .dataframe tbody tr th {\n",
       "        vertical-align: top;\n",
       "    }\n",
       "\n",
       "    .dataframe thead th {\n",
       "        text-align: right;\n",
       "    }\n",
       "</style>\n",
       "<table border=\"1\" class=\"dataframe\">\n",
       "  <thead>\n",
       "    <tr style=\"text-align: right;\">\n",
       "      <th></th>\n",
       "      <th>개봉일</th>\n",
       "      <th>제목</th>\n",
       "      <th>배급사</th>\n",
       "      <th>감독</th>\n",
       "      <th>출연진</th>\n",
       "      <th>장르</th>\n",
       "    </tr>\n",
       "  </thead>\n",
       "  <tbody>\n",
       "    <tr>\n",
       "      <th>0</th>\n",
       "      <td>2023-01-04</td>\n",
       "      <td>스위치</td>\n",
       "      <td>롯데컬처웍스, (주)롯데엔터테인먼트</td>\n",
       "      <td>마대윤</td>\n",
       "      <td>권상우, 오정세, 이민정, 박소이, 김준</td>\n",
       "      <td>기타</td>\n",
       "    </tr>\n",
       "    <tr>\n",
       "      <th>1</th>\n",
       "      <td>2023-01-05</td>\n",
       "      <td>강남좀비</td>\n",
       "      <td>(주)와이드릴리즈</td>\n",
       "      <td>이수성</td>\n",
       "      <td>지일주, 지연</td>\n",
       "      <td>드라마</td>\n",
       "    </tr>\n",
       "    <tr>\n",
       "      <th>2</th>\n",
       "      <td>2023-01-12</td>\n",
       "      <td>별 볼일 없는 인생</td>\n",
       "      <td>(주)이놀미디어</td>\n",
       "      <td>서동현</td>\n",
       "      <td>정가은</td>\n",
       "      <td>멜로/로맨스</td>\n",
       "    </tr>\n",
       "    <tr>\n",
       "      <th>3</th>\n",
       "      <td>2023-01-12</td>\n",
       "      <td>10일간의 애인</td>\n",
       "      <td>(주)그노스</td>\n",
       "      <td>이영용</td>\n",
       "      <td>송민경</td>\n",
       "      <td>멜로/로맨스</td>\n",
       "    </tr>\n",
       "  </tbody>\n",
       "</table>\n",
       "</div>"
      ],
      "text/plain": [
       "          개봉일          제목                  배급사   감독                     출연진  \\\n",
       "0  2023-01-04         스위치  롯데컬처웍스, (주)롯데엔터테인먼트  마대윤  권상우, 오정세, 이민정, 박소이, 김준   \n",
       "1  2023-01-05        강남좀비            (주)와이드릴리즈  이수성                 지일주, 지연   \n",
       "2  2023-01-12  별 볼일 없는 인생             (주)이놀미디어  서동현                     정가은   \n",
       "3  2023-01-12    10일간의 애인               (주)그노스  이영용                     송민경   \n",
       "\n",
       "       장르  \n",
       "0      기타  \n",
       "1     드라마  \n",
       "2  멜로/로맨스  \n",
       "3  멜로/로맨스  "
      ]
     },
     "execution_count": 115,
     "metadata": {},
     "output_type": "execute_result"
    }
   ],
   "source": [
    "df.info()\n",
    "df.head(4)"
   ]
  },
  {
   "cell_type": "code",
   "execution_count": 116,
   "metadata": {},
   "outputs": [
    {
     "data": {
      "text/html": [
       "<div>\n",
       "<style scoped>\n",
       "    .dataframe tbody tr th:only-of-type {\n",
       "        vertical-align: middle;\n",
       "    }\n",
       "\n",
       "    .dataframe tbody tr th {\n",
       "        vertical-align: top;\n",
       "    }\n",
       "\n",
       "    .dataframe thead th {\n",
       "        text-align: right;\n",
       "    }\n",
       "</style>\n",
       "<table border=\"1\" class=\"dataframe\">\n",
       "  <thead>\n",
       "    <tr style=\"text-align: right;\">\n",
       "      <th></th>\n",
       "      <th>개봉일</th>\n",
       "      <th>제목</th>\n",
       "      <th>배급사</th>\n",
       "      <th>감독</th>\n",
       "      <th>출연진</th>\n",
       "      <th>장르</th>\n",
       "    </tr>\n",
       "  </thead>\n",
       "  <tbody>\n",
       "    <tr>\n",
       "      <th>count</th>\n",
       "      <td>59</td>\n",
       "      <td>59</td>\n",
       "      <td>59</td>\n",
       "      <td>59</td>\n",
       "      <td>59</td>\n",
       "      <td>59</td>\n",
       "    </tr>\n",
       "    <tr>\n",
       "      <th>unique</th>\n",
       "      <td>32</td>\n",
       "      <td>59</td>\n",
       "      <td>52</td>\n",
       "      <td>58</td>\n",
       "      <td>59</td>\n",
       "      <td>20</td>\n",
       "    </tr>\n",
       "    <tr>\n",
       "      <th>top</th>\n",
       "      <td>2023-04-12</td>\n",
       "      <td>스위치</td>\n",
       "      <td>(주)인디스토리</td>\n",
       "      <td>최윤호</td>\n",
       "      <td>권상우, 오정세, 이민정, 박소이, 김준</td>\n",
       "      <td>드라마</td>\n",
       "    </tr>\n",
       "    <tr>\n",
       "      <th>freq</th>\n",
       "      <td>6</td>\n",
       "      <td>1</td>\n",
       "      <td>2</td>\n",
       "      <td>2</td>\n",
       "      <td>1</td>\n",
       "      <td>27</td>\n",
       "    </tr>\n",
       "  </tbody>\n",
       "</table>\n",
       "</div>"
      ],
      "text/plain": [
       "               개봉일   제목       배급사   감독                     출연진   장르\n",
       "count           59   59        59   59                      59   59\n",
       "unique          32   59        52   58                      59   20\n",
       "top     2023-04-12  스위치  (주)인디스토리  최윤호  권상우, 오정세, 이민정, 박소이, 김준  드라마\n",
       "freq             6    1         2    2                       1   27"
      ]
     },
     "execution_count": 116,
     "metadata": {},
     "output_type": "execute_result"
    }
   ],
   "source": [
    "df.describe()"
   ]
  },
  {
   "cell_type": "code",
   "execution_count": 117,
   "metadata": {},
   "outputs": [
    {
     "name": "stdout",
     "output_type": "stream",
     "text": [
      "59\n"
     ]
    },
    {
     "data": {
      "text/html": [
       "<div>\n",
       "<style scoped>\n",
       "    .dataframe tbody tr th:only-of-type {\n",
       "        vertical-align: middle;\n",
       "    }\n",
       "\n",
       "    .dataframe tbody tr th {\n",
       "        vertical-align: top;\n",
       "    }\n",
       "\n",
       "    .dataframe thead th {\n",
       "        text-align: right;\n",
       "    }\n",
       "</style>\n",
       "<table border=\"1\" class=\"dataframe\">\n",
       "  <thead>\n",
       "    <tr style=\"text-align: right;\">\n",
       "      <th></th>\n",
       "      <th>개봉일</th>\n",
       "      <th>제목</th>\n",
       "      <th>배급사</th>\n",
       "      <th>감독</th>\n",
       "      <th>출연진</th>\n",
       "      <th>장르</th>\n",
       "    </tr>\n",
       "  </thead>\n",
       "  <tbody>\n",
       "    <tr>\n",
       "      <th>0</th>\n",
       "      <td>2023-01-04</td>\n",
       "      <td>스위치</td>\n",
       "      <td>롯데컬처웍스, (주)롯데엔터테인먼트</td>\n",
       "      <td>마대윤</td>\n",
       "      <td>권상우, 오정세, 이민정, 박소이, 김준</td>\n",
       "      <td>기타</td>\n",
       "    </tr>\n",
       "  </tbody>\n",
       "</table>\n",
       "</div>"
      ],
      "text/plain": [
       "          개봉일   제목                  배급사   감독                     출연진  장르\n",
       "0  2023-01-04  스위치  롯데컬처웍스, (주)롯데엔터테인먼트  마대윤  권상우, 오정세, 이민정, 박소이, 김준  기타"
      ]
     },
     "execution_count": 117,
     "metadata": {},
     "output_type": "execute_result"
    }
   ],
   "source": [
    "print(len(df))\n",
    "df[df['감독'].isin(['마대윤'])]"
   ]
  },
  {
   "cell_type": "code",
   "execution_count": 118,
   "metadata": {},
   "outputs": [
    {
     "data": {
      "text/plain": [
       "58"
      ]
     },
     "execution_count": 118,
     "metadata": {},
     "output_type": "execute_result"
    }
   ],
   "source": [
    "df['감독'].drop_duplicates().shape[0]"
   ]
  },
  {
   "cell_type": "code",
   "execution_count": 119,
   "metadata": {},
   "outputs": [
    {
     "data": {
      "text/plain": [
       "262"
      ]
     },
     "execution_count": 119,
     "metadata": {},
     "output_type": "execute_result"
    }
   ],
   "source": [
    "all_cast = df['출연진'].str.split(', ').explode()\n",
    "all_cast.drop_duplicates().shape[0]"
   ]
  },
  {
   "cell_type": "code",
   "execution_count": 120,
   "metadata": {},
   "outputs": [
    {
     "data": {
      "text/plain": [
       "20"
      ]
     },
     "execution_count": 120,
     "metadata": {},
     "output_type": "execute_result"
    }
   ],
   "source": [
    "df['장르'].drop_duplicates().shape[0]"
   ]
  },
  {
   "cell_type": "code",
   "execution_count": 121,
   "metadata": {},
   "outputs": [
    {
     "name": "stdout",
     "output_type": "stream",
     "text": [
      "['2023-01-12', '2023-01-18', '2023-02-08', '2023-02-22', '2023-03-01', '2023-03-29', '2023-04-05', '2023-04-12', '2023-04-19', '2023-05-10', '2023-05-31', '2023-06-07', '2023-06-08', '2023-06-21', '2023-06-28']\n",
      "개봉일\n",
      "2023-01-12    2\n",
      "2023-01-18    2\n",
      "2023-02-08    3\n",
      "2023-02-22    2\n",
      "2023-03-01    2\n",
      "2023-03-29    5\n",
      "2023-04-05    4\n",
      "2023-04-12    6\n",
      "2023-04-19    2\n",
      "2023-05-10    3\n",
      "2023-05-31    2\n",
      "2023-06-07    2\n",
      "2023-06-08    2\n",
      "2023-06-21    3\n",
      "2023-06-28    2\n",
      "dtype: int64\n"
     ]
    },
    {
     "data": {
      "text/plain": [
       "'2023-04-12'"
      ]
     },
     "execution_count": 121,
     "metadata": {},
     "output_type": "execute_result"
    }
   ],
   "source": [
    "date_count = df.groupby('개봉일').size()\n",
    "print(date_count[date_count >= 2].index.to_list())\n",
    "print(date_count[date_count >= 2])\n",
    "date_count[date_count >= 2].idxmax()"
   ]
  },
  {
   "cell_type": "code",
   "execution_count": 131,
   "metadata": {},
   "outputs": [
    {
     "name": "stdout",
     "output_type": "stream",
     "text": [
      "           개봉일                제목                 배급사                       감독  \\\n",
      "5   2023-01-18                유령           (주)CJ ENM                      이해영   \n",
      "8   2023-02-08             다음 소희           트윈플러스파트너스                      정주리   \n",
      "9   2023-02-08  어쩌면 우린 헤어졌는지 모른다       (주)영화특별시 에스엠씨                      형슬우   \n",
      "12  2023-02-22               카운트           (주)CJ ENM                      권혁재   \n",
      "14  2023-02-23             컨버세이션               필름 다빈                      김덕중   \n",
      "20  2023-03-29           여섯 개의 밤            (주)인디스토리                      최창환   \n",
      "22  2023-03-29               웅남이           (주)CJ CGV                      박성광   \n",
      "23  2023-03-29         찬란한 나의 복수       영화배급협동조합 씨네소파                      임성운   \n",
      "36  2023-04-14            킬링 로맨스  롯데컬쳐웍스 (주)롯데엔터테인먼트                      이원석   \n",
      "39  2023-04-26                드림       (주)플렉스엠엔터테인먼트                      이병헌   \n",
      "42  2023-05-10              바람개비            (주)디스테이션                      이상훈   \n",
      "44  2023-05-17        말이야 바른 말이지              씨에스픽쳐스  박동훈, 최하나, 송현주, 한인미, 윤성호   \n",
      "48  2023-05-31            범죄도시 3       (주)에이비오엔터테인먼트                      이상용   \n",
      "51  2023-06-08             안나푸르나               시네마뉴원                      황승제   \n",
      "52  2023-06-08              육지것들             (주)씨엠닉스                       이황   \n",
      "53  2023-06-14               실버맨            (주)이놀미디어                      최윤호   \n",
      "55  2023-06-21                 손            (주)이눌미디어                      최윤호   \n",
      "58  2023-06-28                라방              트리플픽쳐스                      최주연   \n",
      "\n",
      "                                                  출연진               장르  \\\n",
      "5                        설경구, 이하늬, 박소감, 박해수, 서현우, 김동희               액션   \n",
      "8                                  김시은, 배두나, 박우영, 정수하              드라마   \n",
      "9                                  이동휘, 정은채, 강길우, 정다은              드라마   \n",
      "12                       진선규, 성유빈, 오나라, 고창석, 장동주, 고규필              드라마   \n",
      "14                        조은지, 박종환, 곽민규, 소이, 송은지, 곽진무              드라마   \n",
      "20                       강길우, 강진아, 김시은, 변중희, 이한주, 정수지  드라마, 멜로·로맨스, 가족   \n",
      "22        박성웅, 이이경, 염혜란, 최민수, 오달수, 윤제문, 백지혜, 서동원, 한다솔          코미디, 액션   \n",
      "23                                      허준석, 이영석, 남보라              드라마   \n",
      "36                                  이하늬, 이선균, 공명, 김상욱              코미디   \n",
      "39   박서준, 아이유, 김종수, 고창석, 정승길, 이현우, 양현민, 홍완표, 허준석, 이하늬              드라마   \n",
      "42                            차선우, 유지애, 김소희, 이원석, 서지후               액션   \n",
      "44   김경일, 양현민, 김소형, 김우겸, 정승길, 조윤서, 신사랑, 오경화, 서벽준, 정유연              코미디   \n",
      "48  마동석, 이준혁, 아오키 무네타카, 이범수, 김민재, 이지훈, 김도건, 최동구, 이...           범죄, 액션   \n",
      "51                            김강현, 차선우, 한수연, 신연서, 서은채              드라마   \n",
      "52                                                 소이              코미디   \n",
      "53                            김정팔, 박상욱, 신의현, 이경준, 유재인              드라마   \n",
      "55                             이재원, 박상욱, 정서하, 허웅, 안수호           공포,코미디   \n",
      "58                                      박성웅, 박선호, 김희정              스릴러   \n",
      "\n",
      "    is_cast_duplicate  is_director_duplicate  \n",
      "5                True                  False  \n",
      "8                True                  False  \n",
      "9                True                  False  \n",
      "12               True                  False  \n",
      "14               True                  False  \n",
      "20               True                  False  \n",
      "22               True                  False  \n",
      "23               True                  False  \n",
      "36               True                  False  \n",
      "39               True                  False  \n",
      "42               True                  False  \n",
      "44               True                  False  \n",
      "48               True                  False  \n",
      "51               True                  False  \n",
      "52               True                  False  \n",
      "53               True                   True  \n",
      "55               True                   True  \n",
      "58               True                  False  \n",
      "           개봉일   제목       배급사   감독                      출연진      장르  \\\n",
      "53  2023-06-14  실버맨  (주)이놀미디어  최윤호  김정팔, 박상욱, 신의현, 이경준, 유재인     드라마   \n",
      "55  2023-06-21    손  (주)이눌미디어  최윤호   이재원, 박상욱, 정서하, 허웅, 안수호  공포,코미디   \n",
      "\n",
      "    is_cast_duplicate  is_director_duplicate  \n",
      "53               True                   True  \n",
      "55               True                   True  \n"
     ]
    }
   ],
   "source": [
    "def set_duplicate(df, column_name: str, count_column_name: str):\n",
    "    df[column_name] = False\n",
    "    for i in range(len(df)):\n",
    "        cast_i = set(df.loc[i, count_column_name].split(', '))\n",
    "        for j in range(len(df)):\n",
    "            if i != j:\n",
    "                cast_j = set(df.loc[j, count_column_name].split(', '))\n",
    "                if cast_i & cast_j:\n",
    "                    df.loc[i, column_name] = True\n",
    "                    break\n",
    "set_duplicate(df, 'is_cast_duplicate', '출연진')\n",
    "print(df[df['is_cast_duplicate'] == True])\n",
    "set_duplicate(df, 'is_director_duplicate', '감독')\n",
    "print(df[df['is_director_duplicate'] == True])"
   ]
  },
  {
   "cell_type": "code",
   "execution_count": 171,
   "metadata": {},
   "outputs": [
    {
     "name": "stdout",
     "output_type": "stream",
     "text": [
      "          개봉일                제목            배급사   감독                 출연진   장르  \\\n",
      "1  2023-01-05              강남좀비      (주)와이드릴리즈  이수성             지일주, 지연  드라마   \n",
      "4  2023-01-18                교섭     플렉스엠엔터테인먼트  임순례        황정민, 현빈, 강기영  드라마   \n",
      "7  2023-01-25    열여덟, 어른이 되는 나이          필름 다빈   주영  임선우, 김명찬, 이장유, 박현숙  드라마   \n",
      "8  2023-02-08             다음 소희      트윈플러스파트너스  정주리  김시은, 배두나, 박우영, 정수하  드라마   \n",
      "9  2023-02-08  어쩌면 우린 헤어졌는지 모른다  (주)영화특별시 에스엠씨  형슬우  이동휘, 정은채, 강길우, 정다은  드라마   \n",
      "\n",
      "   is_cast_duplicate  is_director_duplicate  \n",
      "1              False                  False  \n",
      "4              False                  False  \n",
      "7              False                  False  \n",
      "8               True                  False  \n",
      "9               True                  False  \n",
      "           개봉일                제목            배급사   감독  \\\n",
      "19  2023-03-23            낭만 캠퍼스        (주)콘텐츠윙  박동기   \n",
      "9   2023-02-08  어쩌면 우린 헤어졌는지 모른다  (주)영화특별시 에스엠씨  형슬우   \n",
      "23  2023-03-29         찬란한 나의 복수  영화배급협동조합 씨네소파  임성운   \n",
      "12  2023-02-22               카운트      (주)CJ ENM  권혁재   \n",
      "14  2023-02-23             컨버세이션          필름 다빈  김덕중   \n",
      "\n",
      "                                  출연진   장르  is_cast_duplicate  \\\n",
      "19  신민재, 송보은, 이경욱, 설유진, 현진영, 박동기, 김세환  드라마              False   \n",
      "9                  이동휘, 정은채, 강길우, 정다은  드라마               True   \n",
      "23                      허준석, 이영석, 남보라  드라마               True   \n",
      "12       진선규, 성유빈, 오나라, 고창석, 장동주, 고규필  드라마               True   \n",
      "14        조은지, 박종환, 곽민규, 소이, 송은지, 곽진무  드라마               True   \n",
      "\n",
      "    is_director_duplicate  \n",
      "19                  False  \n",
      "9                   False  \n",
      "23                  False  \n",
      "12                  False  \n",
      "14                  False  \n"
     ]
    }
   ],
   "source": [
    "def suggest_movie(genre, count):\n",
    "    print(df[df['장르'] == genre].head(count))\n",
    "\n",
    "def random_suggest_movie(genre, count):\n",
    "    print(df[df['장르'] == genre].sample(count))\n",
    "\n",
    "suggest_movie('드라마', 5)\n",
    "random_suggest_movie('드라마', 5)"
   ]
  },
  {
   "cell_type": "code",
   "execution_count": null,
   "metadata": {},
   "outputs": [],
   "source": []
  }
 ],
 "metadata": {
  "kernelspec": {
   "display_name": "test",
   "language": "python",
   "name": "python3"
  },
  "language_info": {
   "codemirror_mode": {
    "name": "ipython",
    "version": 3
   },
   "file_extension": ".py",
   "mimetype": "text/x-python",
   "name": "python",
   "nbconvert_exporter": "python",
   "pygments_lexer": "ipython3",
   "version": "3.12.7"
  }
 },
 "nbformat": 4,
 "nbformat_minor": 2
}
