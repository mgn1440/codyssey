{
 "cells": [
  {
   "cell_type": "code",
   "execution_count": 28,
   "metadata": {},
   "outputs": [
    {
     "name": "stdout",
     "output_type": "stream",
     "text": [
      "csv\n",
      "csv\n",
      "csv\n",
      "txt\n",
      "txt\n",
      "csv\n"
     ]
    }
   ],
   "source": [
    "import pandas as pd\n",
    "\n",
    "files = [\n",
    "    'castings.csv',\n",
    "    'countries.csv',\n",
    "    'genres.csv',\n",
    "    'movies.txt',\n",
    "    'peoples.txt',\n",
    "    'rates.csv'\n",
    "]\n",
    "\n",
    "def showInfo(fileName):\n",
    "    filePath = '../kmrd-small/' + fileName\n",
    "\n",
    "    if fileName[-3:] == 'txt':\n",
    "        df = pd.read_csv(filePath, sep='\\t', on_bad_lines='skip')\n",
    "    else:\n",
    "        df = pd.read_csv(filePath, on_bad_lines='skip')\n",
    "    # print(\"------\" + fileName + \"-------\")\n",
    "    # print(df.describe())\n",
    "    # print()\n",
    "    # for col in df.columns:\n",
    "    #     print(f\"{col}: {df[col].drop_duplicates().shape[0]}\")\n",
    "    # print()\n",
    "\n",
    "\n",
    "for file in files:\n",
    "    showInfo(file)"
   ]
  }
 ],
 "metadata": {
  "kernelspec": {
   "display_name": "codyssey",
   "language": "python",
   "name": "python3"
  },
  "language_info": {
   "codemirror_mode": {
    "name": "ipython",
    "version": 3
   },
   "file_extension": ".py",
   "mimetype": "text/x-python",
   "name": "python",
   "nbconvert_exporter": "python",
   "pygments_lexer": "ipython3",
   "version": "3.11.11"
  }
 },
 "nbformat": 4,
 "nbformat_minor": 2
}
