{
 "cells": [
  {
   "cell_type": "markdown",
   "metadata": {},
   "source": [
    "# 결측치와 이상치에 대한 설명\n",
    "\n",
    "## 결측치란 무엇인가?\n",
    "결측치(missing value)란 데이터를 분석하거나 처리하는 과정에서 특정 값이 누락된 경우를 말합니다. 예를 들어, 데이터에서 특정 영화의 평점이나 장르 정보가 비어 있는 경우가 결측치입니다.\n",
    "\n",
    "### 결측치가 발생하는 원인\n",
    "1. **데이터 수집 과정의 오류**: 설문조사에서 일부 질문에 답변하지 않은 경우.\n",
    "2. **시스템 문제**: 센서나 데이터 입력 장치의 고장.\n",
    "3. **의도적 누락**: 응답자가 특정 정보를 제공하지 않으려는 경우.\n",
    "4. **데이터 병합 문제**: 여러 데이터셋을 합치는 과정에서 누락된 경우.\n",
    "\n",
    "### 결측치가 중요한 이유\n",
    "- 데이터 분석 결과를 왜곡할 수 있음.\n",
    "- 모델 학습 성능을 저하시킬 가능성이 있음.\n",
    "\n",
    "### 결측치 처리 방법\n",
    "1. **삭제**:\n",
    "   - 행(row) 또는 열(column) 삭제.\n",
    "   - 데이터 손실 가능성이 있어 신중히 사용해야 함.\n",
    "2. **대체**:\n",
    "   - **평균값, 중앙값, 최빈값 대체**: 숫자 데이터를 평균값으로 채움.\n",
    "   - **유사 데이터 기반 대체**: 유사한 데이터를 참고하여 결측치를 채움.\n",
    "   - **모델 기반 대체**: 예측 모델을 사용하여 결측치를 추정.\n",
    "3. **특별한 값으로 표시**:\n",
    "   - 결측치를 \"Unknown\" 또는 0 등으로 대체.\n",
    "4. **무시**:\n",
    "   - 결측치가 분석에 큰 영향을 미치지 않는 경우.\n",
    "\n",
    "---\n",
    "\n",
    "## 이상치란 무엇인가?\n",
    "이상치(outlier)란 데이터에서 다른 값들과 현저히 차이가 나는 값을 의미합니다. 예를 들어, 영화 평점 데이터에서 대부분의 값이 1~5인데 100이라는 값이 있다면, 이는 이상치일 가능성이 높습니다.\n",
    "\n",
    "### 이상치 탐지 방법\n",
    "1. **통계 기반 탐지**:\n",
    "   - **사분위수(IQR) 방식**:\n",
    "     - IQR = Q3 - Q1.\n",
    "     - 이상치 기준: Q1 - 1.5×IQR 이하 또는 Q3 + 1.5×IQR 이상.\n",
    "   - **평균과 표준편차 방식**:\n",
    "     - 평균 ± 3×표준편차를 벗어나는 값을 이상치로 간주.\n",
    "2. **시각화 탐지**:\n",
    "   - **박스 플롯(Box Plot)**: 이상치를 점으로 표시.\n",
    "   - **히스토그램(Histogram)** 또는 **분포도**: 특정 범위를 벗어난 값 확인.\n",
    "   - **산점도(Scatter Plot)**: 튀는 데이터를 시각적으로 확인.\n",
    "3. **머신러닝 기반 탐지**:\n",
    "   - 밀도 기반(DBSCAN), One-Class SVM, Isolation Forest 등.\n",
    "\n",
    "### 이상치 처리 방법\n",
    "1. **삭제**:\n",
    "   - 이상치를 데이터셋에서 제거.\n",
    "   - 데이터 손실을 유발할 수 있으므로 신중히 사용.\n",
    "2. **대체**:\n",
    "   - **평균값이나 중앙값으로 대체**.\n",
    "   - **예측 모델 기반 대체**: 이상치를 예측된 값으로 변경.\n",
    "3. **분석 기법 변경**:\n",
    "   - 이상치를 포함해도 강건한(robust) 분석 방법 사용.\n",
    "4. **이상치를 유지 및 분석**:\n",
    "   - 이상치가 의미 있는 정보를 담고 있다면 그대로 유지하고 추가 분석.\n",
    "\n",
    "---\n",
    "\n",
    "## 결론\n",
    "결측치와 이상치는 데이터 분석에서 피할 수 없는 문제이지만, 적절히 처리하면 분석의 신뢰성과 모델 성능을 높일 수 있습니다. 영화 추천 시스템에서는 특히 사용자의 평점이나 행동 데이터에서 결측치와 이상치가 자주 발생할 수 있으므로, 데이터 처리 방식을 잘 설계하는 것이 중요합니다.\n"
   ]
  },
  {
   "cell_type": "code",
   "execution_count": null,
   "metadata": {},
   "outputs": [
    {
     "name": "stdout",
     "output_type": "stream",
     "text": [
      "<class 'pandas.core.frame.DataFrame'>\n",
      "RangeIndex: 140710 entries, 0 to 140709\n",
      "Data columns (total 4 columns):\n",
      " #   Column  Non-Null Count   Dtype\n",
      "---  ------  --------------   -----\n",
      " 0   user    140710 non-null  int64\n",
      " 1   movie   140710 non-null  int64\n",
      " 2   rate    140710 non-null  int64\n",
      " 3   time    140710 non-null  int64\n",
      "dtypes: int64(4)\n",
      "memory usage: 4.3 MB\n"
     ]
    },
    {
     "data": {
      "image/png": "[encoded data removed]",
      "text/plain": [
       "<Figure size 640x480 with 1 Axes>"
      ]
     },
     "metadata": {},
     "output_type": "display_data"
    }
   ],
   "source": [
    "import pandas as pd\n",
    "import matplotlib.pyplot as plt\n",
    "import seaborn as sns\n",
    "\n",
    "df = pd.read_csv(\"../kmrd-small/rates.csv\")\n",
    "df.info()\n",
    "\n",
    "user_ratings = df['rate']\n",
    "\n",
    "sns.histplot(x='', y='user', data=df.sample(500), )\n",
    "plt.title(\"bla\")\n",
    "plt.xlabel('rate')\n",
    "plt.ylabel('count')\n",
    "plt.show()\n"
   ]
  }
 ],
 "metadata": {
  "kernelspec": {
   "display_name": "codyssey",
   "language": "python",
   "name": "python3"
  },
  "language_info": {
   "codemirror_mode": {
    "name": "ipython",
    "version": 3
   },
   "file_extension": ".py",
   "mimetype": "text/x-python",
   "name": "python",
   "nbconvert_exporter": "python",
   "pygments_lexer": "ipython3",
   "version": "3.11.11"
  }
 },
 "nbformat": 4,
 "nbformat_minor": 2
}
