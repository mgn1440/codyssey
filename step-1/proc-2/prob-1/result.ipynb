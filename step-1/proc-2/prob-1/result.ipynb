{
 "cells": [
  {
   "cell_type": "markdown",
   "metadata": {},
   "source": [
    "MovieLens\n",
    "links.csv, movies.csv, ratings.csv, tags.csv로 되어있다.\n",
    "\n",
    "krmd\n",
    "MovieLens의 형식과 비슷하게 만들었으며 movie.txt, peoples.txt, castings.csv, ratings.csv, countries.csv, genres.csv가 있다."
   ]
  },
  {
   "cell_type": "markdown",
   "metadata": {},
   "source": [
    "영화, 사용자, 장르, 출연배우, 제작국가, 제작일, 출시일, 평점, 평가일"
   ]
  }
 ],
 "metadata": {
  "language_info": {
   "name": "python"
  }
 },
 "nbformat": 4,
 "nbformat_minor": 2
}
